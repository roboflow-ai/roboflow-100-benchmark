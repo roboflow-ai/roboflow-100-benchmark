{
 "cells": [
  {
   "cell_type": "code",
   "execution_count": 1,
   "metadata": {},
   "outputs": [
    {
     "name": "stdout",
     "output_type": "stream",
     "text": [
      "Using matplotlib backend: <object object at 0x7fc70c039c30>\n"
     ]
    }
   ],
   "source": [
    "%matplotlib"
   ]
  },
  {
   "cell_type": "code",
   "execution_count": 4,
   "metadata": {},
   "outputs": [],
   "source": [
    "import pandas as pd\n",
    "from tqdm.autonotebook import tqdm\n",
    "import seaborn as sns\n",
    "import matplotlib.pyplot as plt\n",
    "from pathlib import Path\n",
    "import pickle\n",
    "\n",
    "# plt.style.use(['science', 'notebook'])"
   ]
  },
  {
   "cell_type": "markdown",
   "metadata": {},
   "source": [
    "## Preambula\n",
    "We are going to run some computations, to save time let's create a decorator that stores and read from disk"
   ]
  },
  {
   "cell_type": "code",
   "execution_count": 5,
   "metadata": {},
   "outputs": [],
   "source": [
    "def maybe_load_from_disk(location: Path):\n",
    "    def decorator(func):\n",
    "        def _inner(*args, **kwargs):\n",
    "            if location.exists():\n",
    "                print(f\"[INFO] loading from {location}\")\n",
    "                with open(location, \"rb\") as f:\n",
    "                    return pickle.load(f)\n",
    "            res = func(*args, **kwargs)\n",
    "            with open(location, \"wb\") as f:\n",
    "                print(f\"[INFO] saving to {location}\")\n",
    "                pickle.dump(res, f)\n",
    "            return res\n",
    "        return _inner\n",
    "    return decorator\n",
    "    a"
   ]
  },
  {
   "cell_type": "code",
   "execution_count": 6,
   "metadata": {},
   "outputs": [
    {
     "name": "stderr",
     "output_type": "stream",
     "text": [
      "/home/zuppif/anaconda3/envs/dl/lib/python3.9/site-packages/torch/cuda/__init__.py:83: UserWarning: CUDA initialization: CUDA unknown error - this may be due to an incorrectly set up environment, e.g. changing env variable CUDA_VISIBLE_DEVICES after program start. Setting the available devices to be zero. (Triggered internally at  ../c10/cuda/CUDAFunctions.cpp:109.)\n",
      "  return torch._C._cuda_getDeviceCount() > 0\n"
     ]
    }
   ],
   "source": [
    "import numpy as np\n",
    "from pickle import load, dump\n",
    "from pathlib import Path\n",
    "from tqdm import tqdm\n",
    "import torch\n",
    "from torchvision.utils import make_grid\n",
    "import torchvision.transforms as T\n",
    "from torchvision.transforms.functional import to_pil_image\n",
    "\n",
    "from PIL import Image\n",
    "from multiprocessing import Pool\n",
    "\n",
    "def get_data(root: Path):\n",
    "    data = None\n",
    "    for encode_path in tqdm(list(root.glob(\"*.pk\"))):\n",
    "        with open(encode_path, \"rb\") as f:\n",
    "            batch = load(f)\n",
    "            batch[\"indxs\"] = batch[\"indxs\"].numpy()\n",
    "        if data is None:\n",
    "            data = batch\n",
    "        else:\n",
    "            data[\"x\"] = np.concatenate([data[\"x\"], batch[\"x\"]])\n",
    "            data[\"indxs\"] = np.concatenate([data[\"indxs\"], batch[\"indxs\"]])\n",
    "            data[\"image_paths\"] += batch[\"image_paths\"]\n",
    "        yield data\n",
    "   \n",
    "\n",
    "def pca(x, k, center=True):\n",
    "    # center\n",
    "    if center:\n",
    "        m = x.mean(0, keepdim=True)\n",
    "        s = x.std(0, unbiased=False, keepdim=True)\n",
    "        x -= m\n",
    "        x /= s\n",
    "    # decomposition\n",
    "    U, S, V = torch.linalg.svd(x)\n",
    "    reduced = torch.mm(x, V[:k].T)\n",
    "\n",
    "    return reduced\n"
   ]
  },
  {
   "cell_type": "code",
   "execution_count": 15,
   "metadata": {},
   "outputs": [
    {
     "data": {
      "application/vnd.jupyter.widget-view+json": {
       "model_id": "0b75970b96d84f6a99cec680ec65af83",
       "version_major": 2,
       "version_minor": 0
      },
      "text/plain": [
       "0it [00:00, ?it/s]"
      ]
     },
     "metadata": {},
     "output_type": "display_data"
    },
    {
     "data": {
      "application/vnd.jupyter.widget-view+json": {
       "model_id": "ece70414f2424cb6bb7f46d34e1acf27",
       "version_major": 2,
       "version_minor": 0
      },
      "text/plain": [
       "  0%|          | 0/335 [00:00<?, ?it/s]"
      ]
     },
     "metadata": {},
     "output_type": "display_data"
    },
    {
     "data": {
      "text/plain": [
       "(6815953, 512)"
      ]
     },
     "execution_count": 15,
     "metadata": {},
     "output_type": "execute_result"
    }
   ],
   "source": [
    "from torch.utils.data import TensorDataset, DataLoader\n",
    "from tqdm.autonotebook import tqdm\n",
    "x = None\n",
    "\n",
    "for data in tqdm(get_data(Path(\"./encoded/\"))):\n",
    "    if x is None:\n",
    "        x = data['x']\n",
    "    else:\n",
    "        x = np.concatenate([x, data[\"x\"]])\n",
    "\n",
    "x.shape\n",
    "\n"
   ]
  },
  {
   "cell_type": "code",
   "execution_count": 16,
   "metadata": {},
   "outputs": [],
   "source": [
    "x = torch.from_numpy(x).float()"
   ]
  },
  {
   "cell_type": "code",
   "execution_count": 18,
   "metadata": {},
   "outputs": [
    {
     "data": {
      "text/plain": [
       "torch.Size([3200, 512])"
      ]
     },
     "execution_count": 18,
     "metadata": {},
     "output_type": "execute_result"
    }
   ],
   "source": [
    "import random\n",
    "idxs = random.sample(range(x.shape[0]), 32 * 100)\n",
    "idxs = torch.tensor(idxs)\n",
    "sampled_x = x[idxs]\n",
    "\n",
    "sampled_x.shape"
   ]
  },
  {
   "cell_type": "code",
   "execution_count": 125,
   "metadata": {},
   "outputs": [],
   "source": [
    "torch.save(sampled_x, \"sampled_x.pkl\")"
   ]
  },
  {
   "cell_type": "code",
   "execution_count": 7,
   "metadata": {},
   "outputs": [],
   "source": [
    "sampled_x = torch.load(\"sampled_x.pkl\")"
   ]
  },
  {
   "cell_type": "code",
   "execution_count": 45,
   "metadata": {},
   "outputs": [],
   "source": [
    "from torchmetrics.functional import pairwise_cosine_similarity\n",
    "import seaborn\n",
    "import matplotlib.pyplot as plt\n",
    "\n",
    "sim_matrix = pairwise_cosine_similarity(sampled_x)"
   ]
  },
  {
   "cell_type": "code",
   "execution_count": 94,
   "metadata": {},
   "outputs": [],
   "source": [
    "sim_matrix_norm = sim_matrix - sim_matrix.min(1, keepdim=True)[0]\n",
    "sim_matrix_norm /= sim_matrix_norm.max(1, keepdim=True)[0]\n"
   ]
  },
  {
   "cell_type": "code",
   "execution_count": 107,
   "metadata": {},
   "outputs": [
    {
     "name": "stdout",
     "output_type": "stream",
     "text": [
      "x.shape=torch.Size([3200, 128])\n"
     ]
    }
   ],
   "source": [
    "reduced_x = pca(sampled_x, k=128)\n",
    "print(f\"x.shape={reduced_x.shape}\")"
   ]
  },
  {
   "cell_type": "code",
   "execution_count": 108,
   "metadata": {},
   "outputs": [],
   "source": [
    "reduced_sim_matrix = pairwise_cosine_similarity(reduced_x)\n",
    "\n",
    "reduced_sim_matrix_norm = reduced_sim_matrix -  reduced_sim_matrix.min(1, keepdim=True)[0]\n",
    "reduced_sim_matrix_norm /= reduced_sim_matrix_norm.max(1, keepdim=True)[0]\n"
   ]
  },
  {
   "cell_type": "code",
   "execution_count": 118,
   "metadata": {},
   "outputs": [],
   "source": [
    "sim_sim_matrices = sim_matrix_norm @ reduced_sim_matrix_norm.t()"
   ]
  },
  {
   "cell_type": "code",
   "execution_count": 119,
   "metadata": {},
   "outputs": [
    {
     "data": {
      "text/plain": [
       "(tensor(0.7882), tensor(0.0758), tensor(0.4881))"
      ]
     },
     "execution_count": 119,
     "metadata": {},
     "output_type": "execute_result"
    }
   ],
   "source": [
    "sim_sim_matrices.mean(), sim_sim_matrices.std(), sim_sim_matrices.min()"
   ]
  },
  {
   "cell_type": "code",
   "execution_count": null,
   "metadata": {},
   "outputs": [],
   "source": []
  }
 ],
 "metadata": {
  "kernelspec": {
   "display_name": "Python 3.9.12 ('dl')",
   "language": "python",
   "name": "python3"
  },
  "language_info": {
   "codemirror_mode": {
    "name": "ipython",
    "version": 3
   },
   "file_extension": ".py",
   "mimetype": "text/x-python",
   "name": "python",
   "nbconvert_exporter": "python",
   "pygments_lexer": "ipython3",
   "version": "3.9.12"
  },
  "orig_nbformat": 4,
  "vscode": {
   "interpreter": {
    "hash": "b068f65b37070278da3139a5b2cbbfa33e93d7683ce6ce1a4914b8bf50338e31"
   }
  }
 },
 "nbformat": 4,
 "nbformat_minor": 2
}
