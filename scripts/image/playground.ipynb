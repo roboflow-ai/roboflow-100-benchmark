{
 "cells": [
  {
   "cell_type": "code",
   "execution_count": 1,
   "id": "bf028b82",
   "metadata": {},
   "outputs": [
    {
     "name": "stderr",
     "output_type": "stream",
     "text": [
      "100%|█████████████████████████████| 400/400 [00:02<00:00, 137.55it/s]"
     ]
    },
    {
     "name": "stdout",
     "output_type": "stream",
     "text": [
      "(48776, 512)\n"
     ]
    },
    {
     "name": "stderr",
     "output_type": "stream",
     "text": [
      "\n"
     ]
    }
   ],
   "source": [
    "import numpy as np\n",
    "from pickle import load, dump\n",
    "from pathlib import Path\n",
    "from sklearn.cluster import KMeans\n",
    "from tqdm import tqdm\n",
    "from scipy.cluster.vq import vq\n",
    "import torch\n",
    "\n",
    "from kmeans import kmeans\n",
    "\n",
    "NUM_CLUSTERS = 32 * 56\n",
    "\n",
    "encoded_paths = list(Path(\"../../encoded/\").glob(\"*.pk\"))\n",
    "\n",
    "data = None\n",
    "\n",
    "for encode_path in tqdm(encoded_paths):\n",
    "    with open(encode_path, \"rb\") as f:\n",
    "        batch = load(f)\n",
    "        batch[\"indxs\"] = batch[\"indxs\"].numpy()\n",
    "    if data is None:\n",
    "        data = batch\n",
    "    else:\n",
    "        data[\"x\"] = np.concatenate([data[\"x\"], batch[\"x\"]])\n",
    "        data[\"indxs\"] = np.concatenate([data[\"indxs\"], batch[\"indxs\"]])\n",
    "        data[\"image_paths\"] += batch[\"image_paths\"]\n",
    "\n",
    "print(data[\"x\"].shape)\n"
   ]
  },
  {
   "cell_type": "code",
   "execution_count": 2,
   "id": "aed69745",
   "metadata": {},
   "outputs": [
    {
     "name": "stderr",
     "output_type": "stream",
     "text": [
      "  0%|                                                                   | 0/25 [00:00<?, ?it/s]\n"
     ]
    },
    {
     "ename": "RuntimeError",
     "evalue": "[enforce fail at alloc_cpu.cpp:66] . DefaultCPUAllocator: can't allocate memory: you tried to allocate 179008700416 bytes. Error code 12 (Cannot allocate memory)",
     "output_type": "error",
     "traceback": [
      "\u001b[0;31m---------------------------------------------------------------------------\u001b[0m",
      "\u001b[0;31mRuntimeError\u001b[0m                              Traceback (most recent call last)",
      "Input \u001b[0;32mIn [2]\u001b[0m, in \u001b[0;36m<cell line: 11>\u001b[0;34m()\u001b[0m\n\u001b[1;32m      2\u001b[0m x \u001b[38;5;241m=\u001b[39m torch\u001b[38;5;241m.\u001b[39mfrom_numpy(data[\u001b[38;5;124m\"\u001b[39m\u001b[38;5;124mx\u001b[39m\u001b[38;5;124m\"\u001b[39m])\n\u001b[1;32m      3\u001b[0m \u001b[38;5;66;03m# # scale\u001b[39;00m\n\u001b[1;32m      4\u001b[0m \u001b[38;5;66;03m# m = x.mean(0, keepdim=True)\u001b[39;00m\n\u001b[1;32m      5\u001b[0m \u001b[38;5;66;03m# s = x.std(0, unbiased=False, keepdim=True)\u001b[39;00m\n\u001b[0;32m   (...)\u001b[0m\n\u001b[1;32m      9\u001b[0m \u001b[38;5;66;03m# U, S, V = torch.linalg.svd(x)\u001b[39;00m\n\u001b[1;32m     10\u001b[0m \u001b[38;5;66;03m# reduced = torch.mm(x, V[:, :32])\u001b[39;00m\n\u001b[0;32m---> 11\u001b[0m means, bins \u001b[38;5;241m=\u001b[39m \u001b[43mkmeans\u001b[49m\u001b[43m(\u001b[49m\u001b[43mx\u001b[49m\u001b[43m,\u001b[49m\u001b[43m \u001b[49m\u001b[43mnum_clusters\u001b[49m\u001b[38;5;241;43m=\u001b[39;49m\u001b[43mNUM_CLUSTERS\u001b[49m\u001b[43m,\u001b[49m\u001b[43m \u001b[49m\u001b[43mnum_iters\u001b[49m\u001b[38;5;241;43m=\u001b[39;49m\u001b[38;5;241;43m25\u001b[39;49m\u001b[43m)\u001b[49m\n\u001b[1;32m     13\u001b[0m \u001b[38;5;66;03m# # kmeans = KMeans(NUM_CLUSTERS, verbose=1, max_iter=50)\u001b[39;00m\n\u001b[1;32m     14\u001b[0m \u001b[38;5;66;03m# # kmeans.fit(data['x'])\u001b[39;00m\n\u001b[1;32m     15\u001b[0m \n\u001b[1;32m     16\u001b[0m \u001b[38;5;66;03m# # with open(f\"./kmeans_num-clusters={NUM_CLUSTERS}.pk\", 'wb') as f:\u001b[39;00m\n\u001b[1;32m     17\u001b[0m \u001b[38;5;66;03m# #     dump(kmeans, f)\u001b[39;00m\n\u001b[1;32m     19\u001b[0m \u001b[38;5;28;01mwith\u001b[39;00m \u001b[38;5;28mopen\u001b[39m(\u001b[38;5;124mf\u001b[39m\u001b[38;5;124m\"\u001b[39m\u001b[38;5;124m./torch-kmeans_num-clusters=\u001b[39m\u001b[38;5;132;01m{\u001b[39;00mNUM_CLUSTERS\u001b[38;5;132;01m}\u001b[39;00m\u001b[38;5;124m-no-reduced.pk\u001b[39m\u001b[38;5;124m\"\u001b[39m, \u001b[38;5;124m\"\u001b[39m\u001b[38;5;124mwb\u001b[39m\u001b[38;5;124m\"\u001b[39m) \u001b[38;5;28;01mas\u001b[39;00m f:\n",
      "File \u001b[0;32m~/Documents/Work/RoboFlow/roboflow-100-benchmark/scripts/image/kmeans.py:31\u001b[0m, in \u001b[0;36mkmeans\u001b[0;34m(samples, num_clusters, num_iters, use_cosine_sim)\u001b[0m\n\u001b[1;32m     29\u001b[0m     dists \u001b[38;5;241m=\u001b[39m samples \u001b[38;5;241m@\u001b[39m means\u001b[38;5;241m.\u001b[39mt()\n\u001b[1;32m     30\u001b[0m \u001b[38;5;28;01melse\u001b[39;00m:\n\u001b[0;32m---> 31\u001b[0m     diffs \u001b[38;5;241m=\u001b[39m \u001b[43mrearrange\u001b[49m\u001b[43m(\u001b[49m\u001b[43msamples\u001b[49m\u001b[43m,\u001b[49m\u001b[43m \u001b[49m\u001b[38;5;124;43m\"\u001b[39;49m\u001b[38;5;124;43mn d -> n () d\u001b[39;49m\u001b[38;5;124;43m\"\u001b[39;49m\u001b[43m)\u001b[49m\u001b[43m \u001b[49m\u001b[38;5;241;43m-\u001b[39;49m\u001b[43m \u001b[49m\u001b[43mrearrange\u001b[49m\u001b[43m(\u001b[49m\n\u001b[1;32m     32\u001b[0m \u001b[43m        \u001b[49m\u001b[43mmeans\u001b[49m\u001b[43m,\u001b[49m\u001b[43m \u001b[49m\u001b[38;5;124;43m\"\u001b[39;49m\u001b[38;5;124;43mc d -> () c d\u001b[39;49m\u001b[38;5;124;43m\"\u001b[39;49m\n\u001b[1;32m     33\u001b[0m \u001b[43m    \u001b[49m\u001b[43m)\u001b[49m\n\u001b[1;32m     34\u001b[0m     dists \u001b[38;5;241m=\u001b[39m \u001b[38;5;241m-\u001b[39m(diffs\u001b[38;5;241m*\u001b[39m\u001b[38;5;241m*\u001b[39m\u001b[38;5;241m2\u001b[39m)\u001b[38;5;241m.\u001b[39msum(dim\u001b[38;5;241m=\u001b[39m\u001b[38;5;241m-\u001b[39m\u001b[38;5;241m1\u001b[39m)\n\u001b[1;32m     36\u001b[0m \u001b[38;5;28mprint\u001b[39m(\u001b[38;5;124mf\u001b[39m\u001b[38;5;124m\"\u001b[39m\u001b[38;5;124m[\u001b[39m\u001b[38;5;132;01m{\u001b[39;00mi\u001b[38;5;132;01m}\u001b[39;00m\u001b[38;5;124m] dists=\u001b[39m\u001b[38;5;132;01m{\u001b[39;00mdists\u001b[38;5;241m.\u001b[39mmean()\u001b[38;5;241m.\u001b[39mitem()\u001b[38;5;132;01m:\u001b[39;00m\u001b[38;5;124m.4f\u001b[39m\u001b[38;5;132;01m}\u001b[39;00m\u001b[38;5;124m\"\u001b[39m)\n",
      "\u001b[0;31mRuntimeError\u001b[0m: [enforce fail at alloc_cpu.cpp:66] . DefaultCPUAllocator: can't allocate memory: you tried to allocate 179008700416 bytes. Error code 12 (Cannot allocate memory)"
     ]
    }
   ],
   "source": [
    "data[\"x\"] = data[\"x\"].astype(np.float32)\n",
    "x = torch.from_numpy(data[\"x\"])\n",
    "# # scale\n",
    "# m = x.mean(0, keepdim=True)\n",
    "# s = x.std(0, unbiased=False, keepdim=True)\n",
    "# x -= m\n",
    "# x /= s\n",
    "# # decomposition\n",
    "# U, S, V = torch.linalg.svd(x)\n",
    "# reduced = torch.mm(x, V[:, :32])\n",
    "means, bins = kmeans(data[\"x\"], num_clusters=NUM_CLUSTERS, num_iters=25)\n",
    "\n",
    "# # kmeans = KMeans(NUM_CLUSTERS, verbose=1, max_iter=50)\n",
    "# # kmeans.fit(data['x'])\n",
    "\n",
    "# # with open(f\"./kmeans_num-clusters={NUM_CLUSTERS}.pk\", 'wb') as f:\n",
    "# #     dump(kmeans, f)\n",
    "\n",
    "with open(f\"./torch-kmeans_num-clusters={NUM_CLUSTERS}-no-reduced.pk\", \"wb\") as f:\n",
    "    dump(means, f)\n",
    "\n",
    "\n"
   ]
  },
  {
   "cell_type": "code",
   "execution_count": 6,
   "id": "4dae75d8",
   "metadata": {},
   "outputs": [
    {
     "name": "stdout",
     "output_type": "stream",
     "text": [
      "Loaded means\n"
     ]
    },
    {
     "ename": "ValueError",
     "evalue": "obs and code should have same number of features (columns)",
     "output_type": "error",
     "traceback": [
      "\u001b[0;31m---------------------------------------------------------------------------\u001b[0m",
      "\u001b[0;31mValueError\u001b[0m                                Traceback (most recent call last)",
      "Input \u001b[0;32mIn [6]\u001b[0m, in \u001b[0;36m<cell line: 13>\u001b[0;34m()\u001b[0m\n\u001b[1;32m      9\u001b[0m \u001b[38;5;28mprint\u001b[39m(\u001b[38;5;124m\"\u001b[39m\u001b[38;5;124mLoaded means\u001b[39m\u001b[38;5;124m\"\u001b[39m)\n\u001b[1;32m     11\u001b[0m means_sorted \u001b[38;5;241m=\u001b[39m np\u001b[38;5;241m.\u001b[39msort(means, axis\u001b[38;5;241m=\u001b[39m\u001b[38;5;241m0\u001b[39m)\n\u001b[0;32m---> 13\u001b[0m closest, distances \u001b[38;5;241m=\u001b[39m \u001b[43mvq\u001b[49m\u001b[43m(\u001b[49m\u001b[43mmeans_sorted\u001b[49m\u001b[43m,\u001b[49m\u001b[43m \u001b[49m\u001b[43mdata\u001b[49m\u001b[43m[\u001b[49m\u001b[38;5;124;43m\"\u001b[39;49m\u001b[38;5;124;43mx\u001b[39;49m\u001b[38;5;124;43m\"\u001b[39;49m\u001b[43m]\u001b[49m\u001b[43m)\u001b[49m\n\u001b[1;32m     14\u001b[0m \u001b[38;5;28mprint\u001b[39m(closest)\n\u001b[1;32m     15\u001b[0m \u001b[38;5;28mprint\u001b[39m(closest\u001b[38;5;241m.\u001b[39mshape)\n",
      "File \u001b[0;32m~/anaconda3/envs/dl/lib/python3.9/site-packages/scipy/cluster/vq.py:208\u001b[0m, in \u001b[0;36mvq\u001b[0;34m(obs, code_book, check_finite)\u001b[0m\n\u001b[1;32m    205\u001b[0m c_code_book \u001b[38;5;241m=\u001b[39m code_book\u001b[38;5;241m.\u001b[39mastype(ct, copy\u001b[38;5;241m=\u001b[39m\u001b[38;5;28;01mFalse\u001b[39;00m)\n\u001b[1;32m    207\u001b[0m \u001b[38;5;28;01mif\u001b[39;00m np\u001b[38;5;241m.\u001b[39missubdtype(ct, np\u001b[38;5;241m.\u001b[39mfloat64) \u001b[38;5;129;01mor\u001b[39;00m np\u001b[38;5;241m.\u001b[39missubdtype(ct, np\u001b[38;5;241m.\u001b[39mfloat32):\n\u001b[0;32m--> 208\u001b[0m     \u001b[38;5;28;01mreturn\u001b[39;00m \u001b[43m_vq\u001b[49m\u001b[38;5;241;43m.\u001b[39;49m\u001b[43mvq\u001b[49m\u001b[43m(\u001b[49m\u001b[43mc_obs\u001b[49m\u001b[43m,\u001b[49m\u001b[43m \u001b[49m\u001b[43mc_code_book\u001b[49m\u001b[43m)\u001b[49m\n\u001b[1;32m    209\u001b[0m \u001b[38;5;28;01mreturn\u001b[39;00m py_vq(obs, code_book, check_finite\u001b[38;5;241m=\u001b[39m\u001b[38;5;28;01mFalse\u001b[39;00m)\n",
      "File \u001b[0;32m_vq.pyx:221\u001b[0m, in \u001b[0;36mscipy.cluster._vq.vq\u001b[0;34m()\u001b[0m\n",
      "\u001b[0;31mValueError\u001b[0m: obs and code should have same number of features (columns)"
     ]
    }
   ],
   "source": [
    "\n",
    "with open(f\"../../torch-kmeans_num-clusters={NUM_CLUSTERS}-no-reduced.pk\", \"rb\") as f:\n",
    "    means = load(f)\n",
    "    means = means.numpy()\n",
    "\n",
    "# with open(f\"./kmeans_num-clusters={NUM_CLUSTERS}.pk\", 'rb') as f:\n",
    "#     kmeans = load(f)\n",
    "#     means = kmeans.cluster_centers_\n",
    "\n",
    "print(\"Loaded means\")\n",
    "\n",
    "means_sorted = np.sort(means, axis=0)\n",
    "\n",
    "closest, distances = vq(means_sorted, x)\n",
    "print(closest)\n",
    "print(closest.shape)\n",
    "print(\"Computed distances\")"
   ]
  },
  {
   "cell_type": "code",
   "execution_count": 2,
   "id": "ca67d9b5",
   "metadata": {},
   "outputs": [
    {
     "name": "stderr",
     "output_type": "stream",
     "text": [
      "100%|████████████████████████████████████████████████████████████████████████████████████████████████████████████████████████████████████████████████████████| 1792/1792 [00:06<00:00, 282.93it/s]\n"
     ]
    }
   ],
   "source": [
    "from torchvision.utils import make_grid\n",
    "import torchvision.transforms as T\n",
    "from torchvision.transforms.functional import to_pil_image\n",
    "\n",
    "from PIL import Image\n",
    "from multiprocessing import Pool\n",
    "\n",
    "tr = T.Compose([T.Resize((128, 128)), T.ToTensor()])\n",
    "\n",
    "\n",
    "def read_and_transform(image_path):\n",
    "    img = Image.open(image_path).convert(\"RGB\")\n",
    "    img = tr(img)\n",
    "    return img\n",
    "\n",
    "\n",
    "# with Pool() as pool:\n",
    "x = list(\n",
    "    tqdm(\n",
    "        map(read_and_transform, [data[\"image_paths\"][i] for i in closest]),\n",
    "        total=len(closest),\n",
    "    )\n",
    ")\n",
    "grid = make_grid(x, nrow=56)\n",
    "\n",
    "to_pil_image(grid).save(\"./rf100-grid=32x56.png\")"
   ]
  },
  {
   "cell_type": "code",
   "execution_count": null,
   "id": "d24e42ef",
   "metadata": {},
   "outputs": [],
   "source": []
  }
 ],
 "metadata": {
  "kernelspec": {
   "display_name": "Python 3 (ipykernel)",
   "language": "python",
   "name": "python3"
  },
  "language_info": {
   "codemirror_mode": {
    "name": "ipython",
    "version": 3
   },
   "file_extension": ".py",
   "mimetype": "text/x-python",
   "name": "python",
   "nbconvert_exporter": "python",
   "pygments_lexer": "ipython3",
   "version": "3.9.12"
  }
 },
 "nbformat": 4,
 "nbformat_minor": 5
}
